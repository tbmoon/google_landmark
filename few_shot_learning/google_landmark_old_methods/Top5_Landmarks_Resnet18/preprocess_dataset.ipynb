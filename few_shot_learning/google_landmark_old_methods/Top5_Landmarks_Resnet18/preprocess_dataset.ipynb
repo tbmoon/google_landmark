{
 "cells": [
  {
   "cell_type": "code",
   "execution_count": 2,
   "metadata": {
    "scrolled": true
   },
   "outputs": [
    {
     "name": "stdout",
     "output_type": "stream",
     "text": [
      "Analysis Start!\n",
      "Analysis Done!\n"
     ]
    }
   ],
   "source": [
    "import os\n",
    "import pandas as pd\n",
    "import numpy as np\n",
    "from PIL import Image\n",
    "%matplotlib inline\n",
    "        \n",
    "basedir      = \"/mnt/sw/workspace\"\n",
    "inputdir     = \"/Google\"\n",
    "outfile_name = \"preprocessed_train.csv\"\n",
    "\n",
    "train_data        = pd.read_csv(basedir + inputdir + \"/data/train.csv\")\n",
    "num_of_train_data = train_data['id'].shape[0]\n",
    "\n",
    "filename    = train_data['id'].values\n",
    "url         = train_data['url'].values\n",
    "landmark_id = train_data['landmark_id'].values\n",
    "\n",
    "outfile = open(outfile_name, \"w\")\n",
    "outfile.write('\"id\",')\n",
    "outfile.write('\"url\",')\n",
    "outfile.write('\"landmark_id\"')        \n",
    "        \n",
    "print(\"Analysis Start!\")  \n",
    "\n",
    "for i in range(num_of_train_data):\n",
    "    input_file = basedir + \"/Google/train/\" + str(landmark_id[i]) + \"/\" + filename[i] +\".jpg\"\n",
    "    try:\n",
    "        img = Image.open(input_file) # open the image file\n",
    "        img.verify() # verify that it is, in fact, an image\n",
    "    except (IOError, SyntaxError) as e:\n",
    "        #print('Bad file:', i, filename[i]) # print out the names of corrupt files\n",
    "        pass\n",
    "    else:\n",
    "        img = Image.open(input_file)\n",
    "        array_img = np.asarray(img)\n",
    "        # image might be broken even though it is properly opened\n",
    "        if np.ndim(array_img) == 3: \n",
    "            outfile.write('\\n')\n",
    "            outfile.write('\"' + filename[i] +'\",')\n",
    "            outfile.write('\"' + url[i] +'\",')\n",
    "            outfile.write(str(landmark_id[i]))\n",
    "        \n",
    "outfile.close()\n",
    "\n",
    "print(\"Analysis Done!\")  "
   ]
  },
  {
   "cell_type": "code",
   "execution_count": null,
   "metadata": {},
   "outputs": [],
   "source": []
  },
  {
   "cell_type": "code",
   "execution_count": null,
   "metadata": {},
   "outputs": [],
   "source": []
  },
  {
   "cell_type": "code",
   "execution_count": null,
   "metadata": {},
   "outputs": [],
   "source": []
  }
 ],
 "metadata": {
  "kernelspec": {
   "display_name": "Python 3",
   "language": "python",
   "name": "python3"
  },
  "language_info": {
   "codemirror_mode": {
    "name": "ipython",
    "version": 3
   },
   "file_extension": ".py",
   "mimetype": "text/x-python",
   "name": "python",
   "nbconvert_exporter": "python",
   "pygments_lexer": "ipython3",
   "version": "3.6.4"
  }
 },
 "nbformat": 4,
 "nbformat_minor": 2
}
