{
 "cells": [
  {
   "cell_type": "code",
   "execution_count": 1,
   "metadata": {},
   "outputs": [
    {
     "data": {
      "text/plain": [
       "<matplotlib.figure.Figure at 0x7faebba86c18>"
      ]
     },
     "metadata": {},
     "output_type": "display_data"
    },
    {
     "data": {
      "text/plain": [
       "<matplotlib.figure.Figure at 0x7faeb31c62b0>"
      ]
     },
     "metadata": {},
     "output_type": "display_data"
    },
    {
     "data": {
      "text/plain": [
       "<matplotlib.figure.Figure at 0x7faeb2f5f550>"
      ]
     },
     "metadata": {},
     "output_type": "display_data"
    }
   ],
   "source": [
    "import matplotlib.pyplot as plt\n",
    "train_loss = [1.9255, 1.9014, 1.8869, 1.7879, 1.6031, 1.3913, 1.2126, 1.0399, 0.9965, 0.9691, 0.9446, 0.9272, 0.9089, 0.8948, 0.8730, 0.8684, 0.8680]\n",
    "val_loss = [1.9351, 2.5153, 3.6253, 2.8247, 19.5042, 57.9677, 37.4303, 180.2325, 148.0908, 96.9633, 184.1687, 226.1913, 195.7240, 559.3609, 669.3163, 260.4283, 345.9709, 399.2217]\n",
    "train_acc = [0.0001, 0.0001, 0.0005, 0.0035, 0.0209, 0.0673, 0.1310, 0.2069, 0.2305, 0.2428, 0.2583, 0.2671, 0.2775, 0.2848, 0.2971, 0.2976, 0.3014, 0.3031]\n",
    "val_acc = [0.0002, 0.0002, 0.0010, 0.0071, 0.0330, 0.1010, 0.1826, 0.2057, 0.2332, 0.2532, 0.2543, 0.2623, 0.2932, 0.2703, 0.2700, 0.3029, 0.3001, 0.2791]\n",
    "\n",
    "plt.plot(train_loss, 'r')\n",
    "plt.title('Loss vs. epoch (Train)')\n",
    "plt.xlabel('Epoch')\n",
    "plt.ylabel('Loss')\n",
    "plt.savefig('./figures/1.eps')\n",
    "plt.show()\n",
    "\n",
    "plt.plot(val_loss, 'b')\n",
    "plt.title('Loss vs. epoch (Validatation)')\n",
    "plt.xlabel('Epoch')\n",
    "plt.ylabel('Loss')\n",
    "plt.savefig('./figures/2.eps')\n",
    "plt.show()\n",
    "\n",
    "plt.plot(train_acc, 'r', val_acc, 'b')\n",
    "plt.title('Accuracy vs. epoch')\n",
    "plt.xlabel('Epoch')\n",
    "plt.ylabel('Accuracy')\n",
    "plt.savefig('./figures/3.eps')\n",
    "plt.show()\n",
    "\n"
   ]
  },
  {
   "cell_type": "code",
   "execution_count": null,
   "metadata": {},
   "outputs": [],
   "source": []
  }
 ],
 "metadata": {
  "kernelspec": {
   "display_name": "Python 3",
   "language": "python",
   "name": "python3"
  },
  "language_info": {
   "codemirror_mode": {
    "name": "ipython",
    "version": 3
   },
   "file_extension": ".py",
   "mimetype": "text/x-python",
   "name": "python",
   "nbconvert_exporter": "python",
   "pygments_lexer": "ipython3",
   "version": "3.6.4"
  }
 },
 "nbformat": 4,
 "nbformat_minor": 2
}
