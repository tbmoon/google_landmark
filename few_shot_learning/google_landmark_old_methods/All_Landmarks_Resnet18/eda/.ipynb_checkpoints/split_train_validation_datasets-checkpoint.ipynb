{
 "cells": [
  {
   "cell_type": "code",
   "execution_count": 1,
   "metadata": {},
   "outputs": [],
   "source": [
    "from sklearn.utils import shuffle\n",
    "import pandas as pd\n",
    "import numpy as np\n",
    "import csv\n",
    "\n",
    "fraction_of_train = 0.8\n",
    "infile = pd.read_csv('randomly_selected_good_quality_image_dataset.csv')\n",
    "\n",
    "# randomly shuffle the dataframe\n",
    "infile = infile.reindex(np.random.permutation(infile.index))\n",
    "\n",
    "fraction = int(fraction_of_train*len(infile))\n",
    "\n",
    "train = infile[:fraction]\n",
    "val   = infile[fraction:]\n",
    "\n",
    "train.to_csv('qualified_train.csv',    header = True, index = False, quoting = csv.QUOTE_NONNUMERIC)\n",
    "val.to_csv('qualified_validation.csv', header = True, index = False, quoting = csv.QUOTE_NONNUMERIC)"
   ]
  },
  {
   "cell_type": "code",
   "execution_count": null,
   "metadata": {},
   "outputs": [],
   "source": []
  },
  {
   "cell_type": "code",
   "execution_count": null,
   "metadata": {},
   "outputs": [],
   "source": []
  }
 ],
 "metadata": {
  "kernelspec": {
   "display_name": "Python 3",
   "language": "python",
   "name": "python3"
  },
  "language_info": {
   "codemirror_mode": {
    "name": "ipython",
    "version": 3
   },
   "file_extension": ".py",
   "mimetype": "text/x-python",
   "name": "python",
   "nbconvert_exporter": "python",
   "pygments_lexer": "ipython3",
   "version": "3.6.4"
  }
 },
 "nbformat": 4,
 "nbformat_minor": 2
}
