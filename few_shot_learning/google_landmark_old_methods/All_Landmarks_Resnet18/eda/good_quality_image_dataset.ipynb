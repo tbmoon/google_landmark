{
 "cells": [
  {
   "cell_type": "code",
   "execution_count": 1,
   "metadata": {},
   "outputs": [
    {
     "name": "stdout",
     "output_type": "stream",
     "text": [
      "Analysis Start!\n",
      "Analysis Done!\n",
      "\n",
      "The number of train examples = 1225029\n",
      "The number of good quality image examples = 1217749\n",
      "A fraction of good quality image = 99.41 %\n",
      "Running time = 469m 58s\n"
     ]
    }
   ],
   "source": [
    "# Reading dataset\n",
    "\n",
    "import os\n",
    "import pandas as pd\n",
    "import numpy as np\n",
    "import time\n",
    "from PIL import Image\n",
    "%matplotlib inline\n",
    "\n",
    "verbosity    = 0\n",
    "basedir      = '/mnt/sw/workspace'\n",
    "inputdir     = '/Google'\n",
    "outfile_name = 'good_quality_image_dataset.csv'\n",
    "train_data   = pd.read_csv(basedir + inputdir + '/data/train.csv')\n",
    "\n",
    "num_of_train_examples = train_data['id'].shape[0]\n",
    "#num_of_train_examples = 5000\n",
    "\n",
    "num_of_good_image_examples = 0 \n",
    "\n",
    "filename    = train_data['id'].values\n",
    "url         = train_data['url'].values\n",
    "landmark_id = train_data['landmark_id'].values\n",
    "\n",
    "outfile = open(outfile_name, 'w')\n",
    "outfile.write('\"id\",')\n",
    "outfile.write('\"url\",')\n",
    "outfile.write('\"landmark_id\"')        \n",
    "        \n",
    "print('Analysis Start!')  \n",
    "\n",
    "time0 = time.time()\n",
    "\n",
    "for i in range(num_of_train_examples):\n",
    "    input_file = basedir + '/Google/train/' + str(landmark_id[i]) + '/' + filename[i] + '.jpg'\n",
    "    try:\n",
    "        img = Image.open(input_file) # open the image file\n",
    "        img.verify() # verify that it is, in fact, an image\n",
    "    except (IOError, SyntaxError) as e:\n",
    "        if verbosity == 1:\n",
    "            print('Bad file:', i, filename[i]) # print out the names of corrupt files\n",
    "        pass\n",
    "    else:\n",
    "        img = Image.open(input_file)\n",
    "        array_img = np.asarray(img)\n",
    "        # image might be broken even though it is properly opened.\n",
    "        # this kind of image has 2-dimension.\n",
    "        if np.ndim(array_img) == 3:\n",
    "            outfile.write('\\n')\n",
    "            outfile.write('\"' + filename[i] +'\",')\n",
    "            outfile.write('\"' + url[i] +'\",')\n",
    "            outfile.write(str(landmark_id[i]))\n",
    "            num_of_good_image_examples += 1\n",
    "        \n",
    "outfile.close()\n",
    "\n",
    "time1 = time.time()\n",
    "\n",
    "print('Analysis Done!')\n",
    "print()\n",
    "print('The number of train examples = ' + str(num_of_train_examples))\n",
    "print('The number of good quality image examples = ' + str(num_of_good_image_examples))\n",
    "print('A fraction of good quality image = {:.2f} %'.format(num_of_good_image_examples / num_of_train_examples * 100))\n",
    "print('Running time = {:.0f}m {:.0f}s'.format((time1 - time0) // 60, (time1 - time0) % 60))"
   ]
  },
  {
   "cell_type": "code",
   "execution_count": null,
   "metadata": {},
   "outputs": [],
   "source": []
  }
 ],
 "metadata": {
  "kernelspec": {
   "display_name": "Python 3",
   "language": "python",
   "name": "python3"
  },
  "language_info": {
   "codemirror_mode": {
    "name": "ipython",
    "version": 3
   },
   "file_extension": ".py",
   "mimetype": "text/x-python",
   "name": "python",
   "nbconvert_exporter": "python",
   "pygments_lexer": "ipython3",
   "version": "3.6.4"
  }
 },
 "nbformat": 4,
 "nbformat_minor": 2
}
