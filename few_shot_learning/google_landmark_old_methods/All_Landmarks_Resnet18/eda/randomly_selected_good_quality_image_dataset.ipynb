{
 "cells": [
  {
   "cell_type": "code",
   "execution_count": 1,
   "metadata": {},
   "outputs": [],
   "source": [
    "from sklearn.utils import shuffle\n",
    "import pandas as pd\n",
    "import numpy as np\n",
    "import csv\n",
    "\n",
    "verbosity  = 0\n",
    "threshold = 27\n",
    "\n",
    "infile    = pd.read_csv('good_quality_image_dataset.csv')\n",
    "dummy_row = pd.DataFrame([['dummy', 'dummy', 999999]], columns= ['id', 'url', 'landmark_id'])\n",
    "infile    = infile.append(dummy_row, ignore_index = True)\n",
    "\n",
    "outfile_name = 'randomly_selected_good_quality_image_dataset.csv'\n",
    "outfile = open(outfile_name, 'w')\n",
    "outfile.write('\"id\",')\n",
    "outfile.write('\"url\",')\n",
    "outfile.write('\"landmark_id\"')\n",
    "\n",
    "infile = infile.sort_values(['landmark_id', 'id', 'url'])\n",
    "infile = infile.reset_index(drop = True)\n",
    "\n",
    "num_of_examples         = 1 \n",
    "category_of_landmark_id = infile['landmark_id'][0]\n",
    "arr_of_landmark_id      = np.array([category_of_landmark_id], dtype = int)\n",
    "\n",
    "if verbosity > 0:\n",
    "    infile.head(1000000)\n",
    "\n",
    "for idx, ilandmark_id in enumerate(infile['landmark_id']):\n",
    "\n",
    "    if idx == 0:\n",
    "        continue\n",
    "\n",
    "    if category_of_landmark_id == ilandmark_id:\n",
    "        arr_of_landmark_id = np.append(arr_of_landmark_id, ilandmark_id) \n",
    "    else:\n",
    "        num_of_examples = len(arr_of_landmark_id)\n",
    "        if num_of_examples <= threshold:\n",
    "            for jdx, jlandmark_id in enumerate(arr_of_landmark_id):\n",
    "                outfile.write('\\n')\n",
    "                outfile.write('\"' + infile['id'][idx - num_of_examples + jdx] + '\",')\n",
    "                outfile.write('\"' + infile['url'][idx - num_of_examples + jdx] + '\",')\n",
    "                outfile.write(str(jlandmark_id))\n",
    "        else:\n",
    "            number = np.random.choice(num_of_examples, threshold, replace = False)\n",
    "            for jdx, jlandmark_id in enumerate(arr_of_landmark_id):\n",
    "                if verbosity > 1:\n",
    "                    print(num_of_examples, jlandmark_id)\n",
    "                if np.any(number[:] == jdx):\n",
    "                    outfile.write('\\n')\n",
    "                    outfile.write('\"' + infile['id'][idx - num_of_examples + jdx] + '\",')\n",
    "                    outfile.write('\"' + infile['url'][idx - num_of_examples + jdx] + '\",')\n",
    "                    outfile.write(str(jlandmark_id))\n",
    "            \n",
    "        category_of_landmark_id = ilandmark_id\n",
    "        arr_of_landmark_id = np.array([category_of_landmark_id], dtype = int)\n",
    "                \n",
    "outfile.close()"
   ]
  },
  {
   "cell_type": "code",
   "execution_count": 2,
   "metadata": {},
   "outputs": [],
   "source": [
    "outfile = pd.read_csv(outfile_name)\n",
    "outfile = outfile.iloc[np.random.permutation(len(outfile))]\n",
    "outfile.to_csv(outfile_name, header = True, index = False, quoting = csv.QUOTE_NONNUMERIC)"
   ]
  },
  {
   "cell_type": "code",
   "execution_count": null,
   "metadata": {},
   "outputs": [],
   "source": []
  }
 ],
 "metadata": {
  "kernelspec": {
   "display_name": "Python 3",
   "language": "python",
   "name": "python3"
  },
  "language_info": {
   "codemirror_mode": {
    "name": "ipython",
    "version": 3
   },
   "file_extension": ".py",
   "mimetype": "text/x-python",
   "name": "python",
   "nbconvert_exporter": "python",
   "pygments_lexer": "ipython3",
   "version": "3.6.4"
  }
 },
 "nbformat": 4,
 "nbformat_minor": 2
}
